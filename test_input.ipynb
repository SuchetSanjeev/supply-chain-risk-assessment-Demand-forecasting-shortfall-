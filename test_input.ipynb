{
 "cells": [
  {
   "cell_type": "code",
   "execution_count": 33,
   "id": "b487613e-295a-4b22-9cc9-c148b313e093",
   "metadata": {},
   "outputs": [],
   "source": [
    "import pandas as pd\n",
    "import joblib"
   ]
  },
  {
   "cell_type": "code",
   "execution_count": 35,
   "id": "b76dfc8b-049e-4241-a1c1-5c2c839ad028",
   "metadata": {},
   "outputs": [],
   "source": [
    "# === Load Model, Scaler, and Reference Columns ===\n",
    "def load_model_artifacts():\n",
    "    model = joblib.load(\"model.pkl\")\n",
    "    scaler = joblib.load(\"scaler.pkl\")\n",
    "    reference_columns = joblib.load(\"columns.pkl\")\n",
    "    return model, scaler, reference_columns"
   ]
  },
  {
   "cell_type": "code",
   "execution_count": 51,
   "id": "2bad3182-31ab-4cf9-b5d6-189bd6a837d4",
   "metadata": {},
   "outputs": [],
   "source": [
    "# === Apply Feature Engineering (same as training) ===\n",
    "def apply_feature_engineering(df):\n",
    "    df['Order_Pressure'] = df['Ordered_Qty'] / df['Committed_Lead_Days']\n",
    "    df['Vendor_Risk'] = (1 - df['Reliability_score'] / 100) * df['Quality_Rejection_Rate (%)']\n",
    "    df['Transit_Risk'] = df['Avg_Transit_Days'] * df['Weather_Disruption_Index'] * df['Route Risk Score']\n",
    "    df['Demand_vs_Reliability'] = df['Ordered_Qty'] / (df['Reliability_score'] + 1)\n",
    "    df['Stress_Score'] = df['Transit_Risk'] * df['Order_Pressure']\n",
    "    df['Price_per_Unit_vs_Order'] = df['Price_per_Unit'] / (df['Ordered_Qty'] + 1)\n",
    "\n",
    "    df['High_Risk_Vendor'] = (df['Vendor_Risk'] > 1.5).astype(int)\n",
    "    df['High_Order_Pressure'] = (df['Order_Pressure'] > 20).astype(int)\n",
    "    df['High_Transit_Risk'] = (df['Transit_Risk'] > 25).astype(int)\n",
    "    df['High_Demand_vs_Reliability'] = (df['Demand_vs_Reliability'] > 8).astype(int)\n",
    "    df['High_Stress_Score'] = (df['Stress_Score'] > 400).astype(int)\n",
    "    df['Low_Order_Pressure'] = (df['Order_Pressure'] < 6.2).astype(int)\n",
    "    df['Low_Stress_Score'] = (df['Stress_Score'] < 40).astype(int)\n",
    "    df['Low_Demand_vs_Reliability'] = (df['Demand_vs_Reliability'] < 3).astype(int)\n",
    "    df['Low_Vendor_Risk'] = (df['Vendor_Risk'] < 0.5).astype(int)\n",
    "    df['Low_Price_per_Unit_vs_Order'] = (df['Price_per_Unit_vs_Order'] < 0.05).astype(int)\n",
    "    \n",
    "    return df"
   ]
  },
  {
   "cell_type": "code",
   "execution_count": 53,
   "id": "82766041-c39d-4d69-a5d0-3c163e1ed7c0",
   "metadata": {},
   "outputs": [],
   "source": [
    "# === Encode Categorical Features ===\n",
    "def encode_features(df):\n",
    "    id_cols = ['Component_ID', 'Vendor_ID', 'Route_ID', 'Source']\n",
    "    for col in id_cols:\n",
    "        df[col] = pd.Series(df[col]).astype('category').cat.codes\n",
    "\n",
    "    df['Peak_Congestion_Indicator'] = {'Low': 0, 'Medium': 1, 'High': 2}[df['Peak_Congestion_Indicator'].iloc[0]]\n",
    "    df['Mode_Lorry'] = int(df['Mode'].iloc[0] == 'Lorry')\n",
    "    df['Mode_Train'] = int(df['Mode'].iloc[0] == 'Train')\n",
    "    df['Backup Route Availability_Yes'] = int(df['Backup Route Availability'].iloc[0] == 'Yes')\n",
    "\n",
    "    df.drop(columns=['Mode', 'Backup Route Availability'], inplace=True, errors='ignore')\n",
    "    return df"
   ]
  },
  {
   "cell_type": "code",
   "execution_count": 57,
   "id": "e5df9918-2b86-4fff-a982-0562df960eb0",
   "metadata": {},
   "outputs": [],
   "source": [
    "# === Main Prediction Function ===\n",
    "def predict_from_dataframe(df_input):\n",
    "    model, scaler, reference_columns = load_model_artifacts()\n",
    "\n",
    "    # Check if input is a single dictionary and convert to DataFrame\n",
    "    is_single_row = isinstance(df_input, dict)\n",
    "    if is_single_row:\n",
    "        df_input = pd.DataFrame([df_input])\n",
    "\n",
    "    # Store original input for displaying later\n",
    "    original_cols = df_input.copy()\n",
    "\n",
    "    # Feature engineering + encoding\n",
    "    df_input = apply_feature_engineering(df_input)\n",
    "    df_input = encode_features(df_input)\n",
    "    df_input = df_input.reindex(columns=reference_columns, fill_value=0)\n",
    "\n",
    "    # Scale + predict\n",
    "    df_scaled = scaler.transform(df_input)\n",
    "    probs = model.predict_proba(df_scaled)[:, 1]\n",
    "    preds = (probs >= 0.5).astype(int)\n",
    "\n",
    "    # Prepare output\n",
    "    output_df = original_cols.copy()\n",
    "    output_df['Shortfall_Prob'] = probs\n",
    "    output_df['Predicted_Flag'] = preds\n",
    "\n",
    "    if is_single_row:\n",
    "        # For single row, return clean print\n",
    "        print(\"\\n===== SINGLE ROW PREDICTION =====\")\n",
    "        print(f\"Shortfall Probability: {probs[0]:.4f}\")\n",
    "        print(f\"Predicted Shortfall Flag: {preds[0]}\")\n",
    "        return None\n",
    "    else:\n",
    "        # For batch, return dataframe\n",
    "        return output_df"
   ]
  },
  {
   "cell_type": "code",
   "execution_count": 87,
   "id": "61853d80-f5a3-49c4-a461-5403f47a58c8",
   "metadata": {},
   "outputs": [
    {
     "name": "stdout",
     "output_type": "stream",
     "text": [
      "\n",
      "===== SINGLE ROW PREDICTION =====\n",
      "Shortfall Probability: 0.4242\n",
      "Predicted Shortfall Flag: 0\n"
     ]
    }
   ],
   "source": [
    "test_input = {\n",
    "    'Ordered_Qty': 100,\n",
    "    'Committed_Lead_Days': 30,\n",
    "    'Reliability_score': 87,\n",
    "    'Quality_Rejection_Rate (%)': 6,\n",
    "    'collaboration_tenure': 2,\n",
    "    'avg_lead_days': 7,\n",
    "    'past_incident_count': 1,\n",
    "    'Price_per_Unit': 88,\n",
    "    'Mode': 'Train',\n",
    "    'Peak_Congestion_Indicator': 'Medium',\n",
    "    'Backup Route Availability': 'Yes',\n",
    "    'Avg_Transit_Days': 3,\n",
    "    'Weather_Disruption_Index': 1.0,\n",
    "    'Route Risk Score': 2,\n",
    "    'Component_ID': 1,\n",
    "    'Vendor_ID': 5,\n",
    "    'Route_ID': 6,\n",
    "    'Source': 15,\n",
    "}\n",
    "\n",
    "predict_from_dataframe(test_input)"
   ]
  },
  {
   "cell_type": "code",
   "execution_count": 49,
   "id": "aa065448-698c-4d04-9eb8-e924348082af",
   "metadata": {},
   "outputs": [
    {
     "name": "stdout",
     "output_type": "stream",
     "text": [
      "  Order_ID Component_ID Vendor_ID Route_ID  Order_Date  \\\n",
      "0    O0001          C04      V009     R002  03-11-2001   \n",
      "1    O0002          C01      V001     R022  10-11-2001   \n",
      "2    O0003          C05      V001     R021  11-11-2001   \n",
      "3    O0004          C01      V012     R014  11-11-2001   \n",
      "4    O0005          C02      V002     R007  14-11-2001   \n",
      "\n",
      "  Contractual_Delivery_Date Actual_Delivery_Date  Delivered_Qty  Ordered_Qty  \\\n",
      "0                01-01-2002           25-01-2002             50          580   \n",
      "1                11-01-2002           07-01-2002             50          317   \n",
      "2                01-01-2002           30-01-2002            124          140   \n",
      "3                05-01-2002           23-01-2002             50           50   \n",
      "4                06-01-2002           27-01-2002             50          362   \n",
      "\n",
      "   Price_per_Unit  ...  vendor_id    vendor_name  Reliability_score  \\\n",
      "0           65.20  ...       V009   Iota Traders                 64   \n",
      "1           25.50  ...       V001   Alpha Metals                 81   \n",
      "2           37.00  ...       V001   Alpha Metals                 81   \n",
      "3           25.50  ...       V012   Mu Materials                 50   \n",
      "4           12.75  ...       V002  Beta Supplies                 76   \n",
      "\n",
      "   avg_lead_days  past_incident_count Quality_Rejection_Rate (%)  \\\n",
      "0              6                    1                        8.1   \n",
      "1              3                    1                        2.6   \n",
      "2              3                    1                        2.6   \n",
      "3             11                    5                        6.7   \n",
      "4              9                    4                        4.2   \n",
      "\n",
      "  Supplier_Dependency_Index collaboration_tenure  Shortfall_Prob  \\\n",
      "0                        80                    1        0.965992   \n",
      "1                        49                    6        0.941472   \n",
      "2                        49                    6        0.769480   \n",
      "3                        80                    4        0.064790   \n",
      "4                        64                    1        0.966399   \n",
      "\n",
      "   Predicted_Flag  \n",
      "0               1  \n",
      "1               1  \n",
      "2               1  \n",
      "3               0  \n",
      "4               1  \n",
      "\n",
      "[5 rows x 33 columns]\n"
     ]
    }
   ],
   "source": [
    "df_test = pd.read_csv(\"full_merged_data_v1.csv\").iloc[:5].copy()\n",
    "result_df = predict_from_dataframe(df_test)\n",
    "print(result_df.head())"
   ]
  },
  {
   "cell_type": "code",
   "execution_count": null,
   "id": "80bf79c0-449e-4c2b-b910-278d8a6f0911",
   "metadata": {},
   "outputs": [],
   "source": []
  }
 ],
 "metadata": {
  "kernelspec": {
   "display_name": "Python 3 (ipykernel)",
   "language": "python",
   "name": "python3"
  },
  "language_info": {
   "codemirror_mode": {
    "name": "ipython",
    "version": 3
   },
   "file_extension": ".py",
   "mimetype": "text/x-python",
   "name": "python",
   "nbconvert_exporter": "python",
   "pygments_lexer": "ipython3",
   "version": "3.12.4"
  }
 },
 "nbformat": 4,
 "nbformat_minor": 5
}
